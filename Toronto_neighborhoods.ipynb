{
    "cells": [
        {
            "cell_type": "markdown",
            "metadata": {
                "collapsed": true
            },
            "source": "## Week 3 assignment - Segmenting and Clustering neighborhoods in Toronto <br>"
        },
        {
            "cell_type": "markdown",
            "metadata": {},
            "source": "### Part 1 - Setting up neighborhoods data into a pandas dataframe "
        },
        {
            "cell_type": "code",
            "execution_count": 6,
            "metadata": {},
            "outputs": [
                {
                    "data": {
                        "text/html": "<div>\n<style scoped>\n    .dataframe tbody tr th:only-of-type {\n        vertical-align: middle;\n    }\n\n    .dataframe tbody tr th {\n        vertical-align: top;\n    }\n\n    .dataframe thead th {\n        text-align: right;\n    }\n</style>\n<table border=\"1\" class=\"dataframe\">\n  <thead>\n    <tr style=\"text-align: right;\">\n      <th></th>\n      <th>Postcode</th>\n      <th>Borough</th>\n      <th>Neighbourhood</th>\n    </tr>\n  </thead>\n  <tbody>\n    <tr>\n      <th>0</th>\n      <td>M1A</td>\n      <td>Not assigned</td>\n      <td>Not assigned</td>\n    </tr>\n    <tr>\n      <th>1</th>\n      <td>M2A</td>\n      <td>Not assigned</td>\n      <td>Not assigned</td>\n    </tr>\n    <tr>\n      <th>2</th>\n      <td>M3A</td>\n      <td>North York</td>\n      <td>Parkwoods</td>\n    </tr>\n    <tr>\n      <th>3</th>\n      <td>M4A</td>\n      <td>North York</td>\n      <td>Victoria Village</td>\n    </tr>\n    <tr>\n      <th>4</th>\n      <td>M5A</td>\n      <td>Downtown Toronto</td>\n      <td>Harbourfront</td>\n    </tr>\n  </tbody>\n</table>\n</div>",
                        "text/plain": "  Postcode           Borough     Neighbourhood\n0      M1A      Not assigned      Not assigned\n1      M2A      Not assigned      Not assigned\n2      M3A        North York         Parkwoods\n3      M4A        North York  Victoria Village\n4      M5A  Downtown Toronto      Harbourfront"
                    },
                    "execution_count": 6,
                    "metadata": {},
                    "output_type": "execute_result"
                }
            ],
            "source": "# Load data from wikipedia page\n\nimport pandas as pd\nd = pd.read_html('https://en.wikipedia.org/wiki/List_of_postal_codes_of_Canada:_M')\ndf_toronto = d[0]       # First element of the list is the required dataframe \ndf_toronto.head()"
        },
        {
            "cell_type": "code",
            "execution_count": 7,
            "metadata": {
                "scrolled": true
            },
            "outputs": [
                {
                    "name": "stdout",
                    "output_type": "stream",
                    "text": "Number of not assigned neighbourhoods:  77\nBorough value for such rows: Not assigned    77\nName: Borough, dtype: int64\n"
                }
            ],
            "source": "# Check for not assigned rows\nprint(\"Number of not assigned neighbourhoods: \", len(df_toronto[df_toronto['Neighbourhood'] =='Not assigned']))\nprint(\"Borough value for such rows:\", df_toronto[df_toronto['Neighbourhood'] =='Not assigned']['Borough'].value_counts())"
        },
        {
            "cell_type": "markdown",
            "metadata": {},
            "source": "Hence we see that wherever neighborhood is not assigned, borough is also not assigned. So we drop these rows."
        },
        {
            "cell_type": "code",
            "execution_count": 8,
            "metadata": {},
            "outputs": [
                {
                    "data": {
                        "text/html": "<div>\n<style scoped>\n    .dataframe tbody tr th:only-of-type {\n        vertical-align: middle;\n    }\n\n    .dataframe tbody tr th {\n        vertical-align: top;\n    }\n\n    .dataframe thead th {\n        text-align: right;\n    }\n</style>\n<table border=\"1\" class=\"dataframe\">\n  <thead>\n    <tr style=\"text-align: right;\">\n      <th></th>\n      <th>Postcode</th>\n      <th>Borough</th>\n      <th>Neighbourhood</th>\n    </tr>\n  </thead>\n  <tbody>\n    <tr>\n      <th>0</th>\n      <td>M3A</td>\n      <td>North York</td>\n      <td>Parkwoods</td>\n    </tr>\n    <tr>\n      <th>1</th>\n      <td>M4A</td>\n      <td>North York</td>\n      <td>Victoria Village</td>\n    </tr>\n    <tr>\n      <th>2</th>\n      <td>M5A</td>\n      <td>Downtown Toronto</td>\n      <td>Harbourfront</td>\n    </tr>\n    <tr>\n      <th>3</th>\n      <td>M6A</td>\n      <td>North York</td>\n      <td>Lawrence Heights</td>\n    </tr>\n    <tr>\n      <th>4</th>\n      <td>M6A</td>\n      <td>North York</td>\n      <td>Lawrence Manor</td>\n    </tr>\n  </tbody>\n</table>\n</div>",
                        "text/plain": "  Postcode           Borough     Neighbourhood\n0      M3A        North York         Parkwoods\n1      M4A        North York  Victoria Village\n2      M5A  Downtown Toronto      Harbourfront\n3      M6A        North York  Lawrence Heights\n4      M6A        North York    Lawrence Manor"
                    },
                    "execution_count": 8,
                    "metadata": {},
                    "output_type": "execute_result"
                }
            ],
            "source": "df_toronto.drop(df_toronto[df_toronto['Neighbourhood']=='Not assigned'].index, axis=0, inplace=True)\ndf_toronto.reset_index(drop=True, inplace=True)\ndf_toronto.head()"
        },
        {
            "cell_type": "code",
            "execution_count": 9,
            "metadata": {},
            "outputs": [
                {
                    "data": {
                        "text/html": "<div>\n<style scoped>\n    .dataframe tbody tr th:only-of-type {\n        vertical-align: middle;\n    }\n\n    .dataframe tbody tr th {\n        vertical-align: top;\n    }\n\n    .dataframe thead th {\n        text-align: right;\n    }\n</style>\n<table border=\"1\" class=\"dataframe\">\n  <thead>\n    <tr style=\"text-align: right;\">\n      <th></th>\n      <th>Postcode</th>\n      <th>Borough</th>\n      <th>Neighbourhood</th>\n    </tr>\n  </thead>\n  <tbody>\n    <tr>\n      <th>0</th>\n      <td>M1B</td>\n      <td>Scarborough</td>\n      <td>Rouge, Malvern</td>\n    </tr>\n    <tr>\n      <th>1</th>\n      <td>M1C</td>\n      <td>Scarborough</td>\n      <td>Highland Creek, Rouge Hill, Port Union</td>\n    </tr>\n    <tr>\n      <th>2</th>\n      <td>M1E</td>\n      <td>Scarborough</td>\n      <td>Guildwood, Morningside, West Hill</td>\n    </tr>\n    <tr>\n      <th>3</th>\n      <td>M1G</td>\n      <td>Scarborough</td>\n      <td>Woburn</td>\n    </tr>\n    <tr>\n      <th>4</th>\n      <td>M1H</td>\n      <td>Scarborough</td>\n      <td>Cedarbrae</td>\n    </tr>\n  </tbody>\n</table>\n</div>",
                        "text/plain": "  Postcode      Borough                           Neighbourhood\n0      M1B  Scarborough                          Rouge, Malvern\n1      M1C  Scarborough  Highland Creek, Rouge Hill, Port Union\n2      M1E  Scarborough       Guildwood, Morningside, West Hill\n3      M1G  Scarborough                                  Woburn\n4      M1H  Scarborough                               Cedarbrae"
                    },
                    "execution_count": 9,
                    "metadata": {},
                    "output_type": "execute_result"
                }
            ],
            "source": "# Merge rows by postal code\ndf_toronto = df_toronto.groupby('Postcode', as_index=False).aggregate({'Borough': 'first', 'Neighbourhood':', '.join})\ndf_toronto.head(15)"
        },
        {
            "cell_type": "code",
            "execution_count": 10,
            "metadata": {},
            "outputs": [
                {
                    "name": "stdout",
                    "output_type": "stream",
                    "text": "Number or postcodes/ rows: 103\n"
                }
            ],
            "source": "print(\"Number or postcodes/ rows:\", df_toronto.shape[0])"
        },
        {
            "cell_type": "markdown",
            "metadata": {},
            "source": "<br>\n<br>"
        },
        {
            "cell_type": "markdown",
            "metadata": {},
            "source": "### Part 2 - Add latitude and longitude coordinates of neighborhoods"
        },
        {
            "cell_type": "code",
            "execution_count": 16,
            "metadata": {},
            "outputs": [
                {
                    "data": {
                        "text/html": "<div>\n<style scoped>\n    .dataframe tbody tr th:only-of-type {\n        vertical-align: middle;\n    }\n\n    .dataframe tbody tr th {\n        vertical-align: top;\n    }\n\n    .dataframe thead th {\n        text-align: right;\n    }\n</style>\n<table border=\"1\" class=\"dataframe\">\n  <thead>\n    <tr style=\"text-align: right;\">\n      <th></th>\n      <th>Postcode</th>\n      <th>Borough</th>\n      <th>Neighbourhood</th>\n      <th>Latitude</th>\n      <th>Longitude</th>\n    </tr>\n  </thead>\n  <tbody>\n    <tr>\n      <th>0</th>\n      <td>M1B</td>\n      <td>Scarborough</td>\n      <td>Rouge, Malvern</td>\n      <td>43.806686</td>\n      <td>-79.194353</td>\n    </tr>\n    <tr>\n      <th>1</th>\n      <td>M1C</td>\n      <td>Scarborough</td>\n      <td>Highland Creek, Rouge Hill, Port Union</td>\n      <td>43.784535</td>\n      <td>-79.160497</td>\n    </tr>\n    <tr>\n      <th>2</th>\n      <td>M1E</td>\n      <td>Scarborough</td>\n      <td>Guildwood, Morningside, West Hill</td>\n      <td>43.763573</td>\n      <td>-79.188711</td>\n    </tr>\n    <tr>\n      <th>3</th>\n      <td>M1G</td>\n      <td>Scarborough</td>\n      <td>Woburn</td>\n      <td>43.770992</td>\n      <td>-79.216917</td>\n    </tr>\n    <tr>\n      <th>4</th>\n      <td>M1H</td>\n      <td>Scarborough</td>\n      <td>Cedarbrae</td>\n      <td>43.773136</td>\n      <td>-79.239476</td>\n    </tr>\n    <tr>\n      <th>5</th>\n      <td>M1J</td>\n      <td>Scarborough</td>\n      <td>Scarborough Village</td>\n      <td>43.744734</td>\n      <td>-79.239476</td>\n    </tr>\n    <tr>\n      <th>6</th>\n      <td>M1K</td>\n      <td>Scarborough</td>\n      <td>East Birchmount Park, Ionview, Kennedy Park</td>\n      <td>43.727929</td>\n      <td>-79.262029</td>\n    </tr>\n    <tr>\n      <th>7</th>\n      <td>M1L</td>\n      <td>Scarborough</td>\n      <td>Clairlea, Golden Mile, Oakridge</td>\n      <td>43.711112</td>\n      <td>-79.284577</td>\n    </tr>\n    <tr>\n      <th>8</th>\n      <td>M1M</td>\n      <td>Scarborough</td>\n      <td>Cliffcrest, Cliffside, Scarborough Village West</td>\n      <td>43.716316</td>\n      <td>-79.239476</td>\n    </tr>\n    <tr>\n      <th>9</th>\n      <td>M1N</td>\n      <td>Scarborough</td>\n      <td>Birch Cliff, Cliffside West</td>\n      <td>43.692657</td>\n      <td>-79.264848</td>\n    </tr>\n  </tbody>\n</table>\n</div>",
                        "text/plain": "  Postcode      Borough                                    Neighbourhood  \\\n0      M1B  Scarborough                                   Rouge, Malvern   \n1      M1C  Scarborough           Highland Creek, Rouge Hill, Port Union   \n2      M1E  Scarborough                Guildwood, Morningside, West Hill   \n3      M1G  Scarborough                                           Woburn   \n4      M1H  Scarborough                                        Cedarbrae   \n5      M1J  Scarborough                              Scarborough Village   \n6      M1K  Scarborough      East Birchmount Park, Ionview, Kennedy Park   \n7      M1L  Scarborough                  Clairlea, Golden Mile, Oakridge   \n8      M1M  Scarborough  Cliffcrest, Cliffside, Scarborough Village West   \n9      M1N  Scarborough                      Birch Cliff, Cliffside West   \n\n    Latitude  Longitude  \n0  43.806686 -79.194353  \n1  43.784535 -79.160497  \n2  43.763573 -79.188711  \n3  43.770992 -79.216917  \n4  43.773136 -79.239476  \n5  43.744734 -79.239476  \n6  43.727929 -79.262029  \n7  43.711112 -79.284577  \n8  43.716316 -79.239476  \n9  43.692657 -79.264848  "
                    },
                    "execution_count": 16,
                    "metadata": {},
                    "output_type": "execute_result"
                }
            ],
            "source": "df_ll = pd.read_csv('http://cocl.us/Geospatial_data')\ndf_ll.rename(columns={'Postal Code':'Postcode'}, inplace=True)\ndf_toronto = pd.merge(df_toronto, df_ll, on='Postcode')\ndf_toronto.head(15)"
        },
        {
            "cell_type": "markdown",
            "metadata": {},
            "source": "<br>\n<br>"
        },
        {
            "cell_type": "markdown",
            "metadata": {},
            "source": "### Part - 3 Exploring and clustering the neighborhoods in Toronto "
        },
        {
            "cell_type": "code",
            "execution_count": 19,
            "metadata": {},
            "outputs": [
                {
                    "name": "stdout",
                    "output_type": "stream",
                    "text": "Toronto has 10 boroughs and 103 neighborhoods.\n"
                }
            ],
            "source": "# Take a look at number of boroughs and neighbourhoods\nprint('Toronto has {} boroughs and {} neighborhoods.'.format(\n        len(df_toronto['Borough'].unique()),\n        df_toronto.shape[0]\n    )\n)"
        },
        {
            "cell_type": "code",
            "execution_count": 20,
            "metadata": {},
            "outputs": [
                {
                    "data": {
                        "text/plain": "North York          24\nDowntown Toronto    19\nScarborough         17\nEtobicoke           12\nCentral Toronto      9\nWest Toronto         6\nEast Toronto         5\nYork                 5\nEast York            5\nMississauga          1\nName: Borough, dtype: int64"
                    },
                    "execution_count": 20,
                    "metadata": {},
                    "output_type": "execute_result"
                }
            ],
            "source": "# Let's check how many neighborhoods belong to each borough\ndf_toronto['Borough'].value_counts()"
        },
        {
            "cell_type": "markdown",
            "metadata": {},
            "source": "<br>\nNow let us visualize the ten boroughs on a map. For this I approximate the location of each borough as the average value of the coordinates for all its neighborhoods. "
        },
        {
            "cell_type": "code",
            "execution_count": 30,
            "metadata": {},
            "outputs": [],
            "source": "# Let's visualize the ten boroughs on a map\n# df_map = df_toronto.drop('Neighbourhood', axis=1).groupby('Borough').mean()\ndf_map = df_toronto.drop('Neighbourhood', axis=1).groupby('Borough', as_index=False).mean()"
        },
        {
            "cell_type": "code",
            "execution_count": 41,
            "metadata": {},
            "outputs": [
                {
                    "data": {
                        "text/html": "<div>\n<style scoped>\n    .dataframe tbody tr th:only-of-type {\n        vertical-align: middle;\n    }\n\n    .dataframe tbody tr th {\n        vertical-align: top;\n    }\n\n    .dataframe thead th {\n        text-align: right;\n    }\n</style>\n<table border=\"1\" class=\"dataframe\">\n  <thead>\n    <tr style=\"text-align: right;\">\n      <th></th>\n      <th>Borough</th>\n      <th>Latitude</th>\n      <th>Longitude</th>\n    </tr>\n  </thead>\n  <tbody>\n    <tr>\n      <th>0</th>\n      <td>Central Toronto</td>\n      <td>43.701980</td>\n      <td>-79.398954</td>\n    </tr>\n    <tr>\n      <th>1</th>\n      <td>Downtown Toronto</td>\n      <td>43.654597</td>\n      <td>-79.383972</td>\n    </tr>\n    <tr>\n      <th>2</th>\n      <td>East Toronto</td>\n      <td>43.669436</td>\n      <td>-79.324654</td>\n    </tr>\n    <tr>\n      <th>3</th>\n      <td>East York</td>\n      <td>43.700303</td>\n      <td>-79.335851</td>\n    </tr>\n    <tr>\n      <th>4</th>\n      <td>Etobicoke</td>\n      <td>43.660043</td>\n      <td>-79.542074</td>\n    </tr>\n    <tr>\n      <th>5</th>\n      <td>Mississauga</td>\n      <td>43.636966</td>\n      <td>-79.615819</td>\n    </tr>\n    <tr>\n      <th>6</th>\n      <td>North York</td>\n      <td>43.750727</td>\n      <td>-79.429338</td>\n    </tr>\n    <tr>\n      <th>7</th>\n      <td>Scarborough</td>\n      <td>43.766229</td>\n      <td>-79.249085</td>\n    </tr>\n    <tr>\n      <th>8</th>\n      <td>West Toronto</td>\n      <td>43.652653</td>\n      <td>-79.449290</td>\n    </tr>\n    <tr>\n      <th>9</th>\n      <td>York</td>\n      <td>43.690797</td>\n      <td>-79.472633</td>\n    </tr>\n  </tbody>\n</table>\n</div>",
                        "text/plain": "            Borough   Latitude  Longitude\n0   Central Toronto  43.701980 -79.398954\n1  Downtown Toronto  43.654597 -79.383972\n2      East Toronto  43.669436 -79.324654\n3         East York  43.700303 -79.335851\n4         Etobicoke  43.660043 -79.542074\n5       Mississauga  43.636966 -79.615819\n6        North York  43.750727 -79.429338\n7       Scarborough  43.766229 -79.249085\n8      West Toronto  43.652653 -79.449290\n9              York  43.690797 -79.472633"
                    },
                    "execution_count": 41,
                    "metadata": {},
                    "output_type": "execute_result"
                }
            ],
            "source": "df_map"
        },
        {
            "cell_type": "code",
            "execution_count": 35,
            "metadata": {},
            "outputs": [
                {
                    "name": "stdout",
                    "output_type": "stream",
                    "text": "Requirement already satisfied: geopy in /opt/conda/envs/Python36/lib/python3.6/site-packages (1.18.1)\nRequirement already satisfied: geographiclib<2,>=1.49 in /opt/conda/envs/Python36/lib/python3.6/site-packages (from geopy) (1.49)\nRequirement already satisfied: folium in /opt/conda/envs/Python36/lib/python3.6/site-packages (0.10.1)\nRequirement already satisfied: jinja2>=2.9 in /opt/conda/envs/Python36/lib/python3.6/site-packages (from folium) (2.10)\nRequirement already satisfied: branca>=0.3.0 in /opt/conda/envs/Python36/lib/python3.6/site-packages (from folium) (0.4.0)\nRequirement already satisfied: numpy in /opt/conda/envs/Python36/lib/python3.6/site-packages (from folium) (1.15.4)\nRequirement already satisfied: requests in /opt/conda/envs/Python36/lib/python3.6/site-packages (from folium) (2.21.0)\nRequirement already satisfied: MarkupSafe>=0.23 in /opt/conda/envs/Python36/lib/python3.6/site-packages (from jinja2>=2.9->folium) (1.1.0)\nRequirement already satisfied: six in /opt/conda/envs/Python36/lib/python3.6/site-packages (from branca>=0.3.0->folium) (1.12.0)\nRequirement already satisfied: certifi>=2017.4.17 in /opt/conda/envs/Python36/lib/python3.6/site-packages (from requests->folium) (2019.11.28)\nRequirement already satisfied: idna<2.9,>=2.5 in /opt/conda/envs/Python36/lib/python3.6/site-packages (from requests->folium) (2.8)\nRequirement already satisfied: chardet<3.1.0,>=3.0.2 in /opt/conda/envs/Python36/lib/python3.6/site-packages (from requests->folium) (3.0.4)\nRequirement already satisfied: urllib3<1.25,>=1.21.1 in /opt/conda/envs/Python36/lib/python3.6/site-packages (from requests->folium) (1.24.1)\n"
                }
            ],
            "source": "!pip install geopy\n!pip install folium"
        },
        {
            "cell_type": "code",
            "execution_count": 36,
            "metadata": {},
            "outputs": [],
            "source": "from geopy.geocoders import Nominatim\nimport folium"
        },
        {
            "cell_type": "code",
            "execution_count": 40,
            "metadata": {},
            "outputs": [
                {
                    "name": "stdout",
                    "output_type": "stream",
                    "text": "The geograpical coordinate of Toronto are 43.653963, -79.387207.\n"
                }
            ],
            "source": "# Get coordinates of Toronto\n\naddress = 'Toronto, ON'\n\ngeolocator = Nominatim(user_agent=\"ttt\")\nlocation = geolocator.geocode(address)\nlatitude = location.latitude\nlongitude = location.longitude\nprint('The geograpical coordinate of Toronto are {}, {}.'.format(latitude, longitude))"
        },
        {
            "cell_type": "code",
            "execution_count": 45,
            "metadata": {},
            "outputs": [
                {
                    "data": {
                        "text/html": "<div style=\"width:100%;\"><div style=\"position:relative;width:100%;height:0;padding-bottom:60%;\"><iframe src=\"about:blank\" style=\"position:absolute;width:100%;height:100%;left:0;top:0;border:none !important;\" data-html=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 onload=\"this.contentDocument.open();this.contentDocument.write(atob(this.getAttribute('data-html')));this.contentDocument.close();\" allowfullscreen webkitallowfullscreen mozallowfullscreen></iframe></div></div>",
                        "text/plain": "<folium.folium.Map at 0x7f03cea977b8>"
                    },
                    "execution_count": 45,
                    "metadata": {},
                    "output_type": "execute_result"
                }
            ],
            "source": "# Make a map of toronto showing all the boroughs\nmap_toronto = folium.Map(location=[latitude, longitude], zoom_start=11)\n\nfor lat, long, borough in zip(df_map['Latitude'], df_map['Longitude'], df_map['Borough']):\n    folium.Marker(\n    location=[lat, long],\n    popup=borough).add_to(map_toronto)\n    \nmap_toronto"
        },
        {
            "cell_type": "code",
            "execution_count": null,
            "metadata": {},
            "outputs": [],
            "source": ""
        }
    ],
    "metadata": {
        "kernelspec": {
            "display_name": "Python 3.6",
            "language": "python",
            "name": "python3"
        },
        "language_info": {
            "codemirror_mode": {
                "name": "ipython",
                "version": 3
            },
            "file_extension": ".py",
            "mimetype": "text/x-python",
            "name": "python",
            "nbconvert_exporter": "python",
            "pygments_lexer": "ipython3",
            "version": "3.6.9"
        }
    },
    "nbformat": 4,
    "nbformat_minor": 1
}